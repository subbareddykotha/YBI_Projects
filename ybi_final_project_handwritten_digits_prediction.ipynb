{
  "nbformat": 4,
  "nbformat_minor": 0,
  "metadata": {
    "colab": {
      "provenance": [],
      "include_colab_link": true
    },
    "kernelspec": {
      "name": "python3",
      "display_name": "Python 3"
    },
    "language_info": {
      "name": "python"
    }
  },
  "cells": [
    {
      "cell_type": "markdown",
      "metadata": {
        "id": "view-in-github",
        "colab_type": "text"
      },
      "source": [
        "<a href=\"https://colab.research.google.com/github/Dinesh-Goli/ybi_project/blob/main/ybi_final_project_handwritten_digits_prediction.ipynb\" target=\"_parent\"><img src=\"https://colab.research.google.com/assets/colab-badge.svg\" alt=\"Open In Colab\"/></a>"
      ]
    },
    {
      "cell_type": "markdown",
      "source": [
        "## ***HAND WRITTEN DIGIT PREDICTION-CLASSIFICATION ANALYSIS***"
      ],
      "metadata": {
        "id": "t1PSMrXK9DMJ"
      }
    },
    {
      "cell_type": "markdown",
      "source": [
        "The digit dataset consists of 8x8 pixel images of digits. The images attribute of the dataset stores 8x8 arrays of grayscale values for each image. We will use these arrays to visualize the first 4 images. The target attribute of the dataset stores the digit each image represents."
      ],
      "metadata": {
        "id": "xMqr_WxE9WPl"
      }
    },
    {
      "cell_type": "markdown",
      "source": [
        "## **Import Library**"
      ],
      "metadata": {
        "id": "5JhijSo_-ifD"
      }
    },
    {
      "cell_type": "code",
      "source": [
        "import pandas as pd"
      ],
      "metadata": {
        "id": "6vZxq_xR-t_a"
      },
      "execution_count": 1,
      "outputs": []
    },
    {
      "cell_type": "code",
      "source": [
        "import numpy as np"
      ],
      "metadata": {
        "id": "FmRWK4Rt-0fV"
      },
      "execution_count": 2,
      "outputs": []
    },
    {
      "cell_type": "code",
      "source": [
        "import matplotlib.pyplot as plt"
      ],
      "metadata": {
        "id": "W4VG0utU-5Zr"
      },
      "execution_count": 3,
      "outputs": []
    },
    {
      "cell_type": "markdown",
      "source": [
        "## **Import Data**"
      ],
      "metadata": {
        "id": "kWLTxHwL-_Dx"
      }
    },
    {
      "cell_type": "code",
      "source": [
        "from sklearn.datasets import load_digits"
      ],
      "metadata": {
        "id": "V25od12n-76N"
      },
      "execution_count": 4,
      "outputs": []
    },
    {
      "cell_type": "code",
      "source": [
        "df=load_digits()"
      ],
      "metadata": {
        "id": "efsWZ0iU_j-r"
      },
      "execution_count": 5,
      "outputs": []
    },
    {
      "cell_type": "code",
      "source": [
        "_,axes=plt.subplots(nrows=1,ncols=4,figsize=(10,3))\n",
        "for ax,image,label in zip(axes,df.images,df.target):\n",
        "  ax.set_axis_off()\n",
        "  ax.imshow(image,cmap=plt.cm.gray_r,interpolation=\"nearest\")\n",
        "  ax.set_title(\"Training:%i\"%label)"
      ],
      "metadata": {
        "colab": {
          "base_uri": "https://localhost:8080/",
          "height": 227
        },
        "id": "tsOfkI8__mcd",
        "outputId": "cfef19b8-80cf-45a0-f1c9-be59447310ae"
      },
      "execution_count": 6,
      "outputs": [
        {
          "output_type": "display_data",
          "data": {
            "text/plain": [
              "<Figure size 1000x300 with 4 Axes>"
            ],
            "image/png": "[encoded data removed]"
          },
          "metadata": {}
        }
      ]
    },
    {
      "cell_type": "markdown",
      "source": [
        "## **Data PreProcessing**"
      ],
      "metadata": {
        "id": "8RX-_VOZAvhV"
      }
    },
    {
      "cell_type": "markdown",
      "source": [
        "8x8 image"
      ],
      "metadata": {
        "id": "4uk8IL6qDU-3"
      }
    },
    {
      "cell_type": "markdown",
      "source": [
        "![k1.png](data:image/png;base64,iVBORw0KGgoAAAANSUhEUgAAAS4AAACuCAIAAAAH5Xd4AAAAAXNSR0IArs4c6QAAAARnQU1BAACxjwv8YQUAAAAJcEhZcwAADsMAAA7DAcdvqGQAAAAhdEVYdENyZWF0aW9uIFRpbWUAMjAyMzowNzoyMSAxMTozMzo0Na3EpU8AAAKtSURBVHhe7d2xjRNBFIBhmzIogQ5INz4JUQGBrwIX4grOARUgJOJN6YASaGO4YBrAXut+7X1f4jeZk19vpA3mOMY4AG/tw/wF3pQUIUGKkCBFSJAiJEgREu79mLGcr3OCd2C9nOa0tQ1S/Pjp8zzArv398/txKbqgQoIUIUGKkCBFSJAiJEgREqQICVKEBClCghQhQYqQIEVIkCIkSBESpAgJUoQEKUKCFCFBipAgRUiQIiRIERKkCAlShAQpQoIUIUGKkCBFSJAiJEgREqQICVKEBClCggfA4T90Xx1+3D+Dd+XerfjqdTGuX57nAfZr+fniLX7YOSlCghQhQYqQIEVIkCIkSBESpAgJUoQEKUKCFCFBipAgRUiQIiRIERKkCAlShAQpQoIUIUGKkCBFSJAiJEgREqQICVKEBClCghQhQYqQIEVIkCIkSBESpAgJUoQEKUKCFCFBipAgRUg4jjHmeKvlfJ0T7N16Oc1pa7YiJGyzFb9++zUPsF8/vj/ZirBzUoQEKUKCFCFBipAgRUiQIiRIERKkCAlShAQpQoIUIUGKkCBFSJAiJEgREqQICVKEBClCghQhQYqQIEVIkCIkSBESpAgJUoQEKUKCFCFBipAgRUiQIiRIERKkCAlShAQpQoIUIUGKkHAcY8zxVsv5OifYu/VymtPWtklxvTzPA+zXcn55XIouqJAgRUiQIiRIERKkCAlShAQpQoIUIUGKkCBFSJAiJEgREqQICVKEBClCghQhQYqQIEVIkCIkSBESpAgJUoQEKUKCFCFBipAgRUiQIiRIERKkCAlShAQpQoIUIUGKkCBFSJAiJEgREqQICccxxhxvtZyvc4K9Wy+nOW1tgxSB+7mgQoIUIUGKkCBFSJAiJEgREqQICVKEBClCghQhQYoQcDj8A8xPSuD9UkBiAAAAAElFTkSuQmCC)"
      ],
      "metadata": {
        "id": "VEjvhEjYDm62"
      }
    },
    {
      "cell_type": "markdown",
      "source": [
        "Flatten Image"
      ],
      "metadata": {
        "id": "vq3MrnuWDsho"
      }
    },
    {
      "cell_type": "markdown",
      "source": [
        "![k2.png](data:image/png;base64,iVBORw0KGgoAAAANSUhEUgAAAlAAAABmCAIAAACLPDiLAAAAAXNSR0IArs4c6QAAAARnQU1BAACxjwv8YQUAAAAJcEhZcwAADsMAAA7DAcdvqGQAAAAhdEVYdENyZWF0aW9uIFRpbWUAMjAyMzowNzoyMSAxMTozMzo0Na3EpU8AAAIhSURBVHhe7dixTVxBFEDRPy6DEujAKaSWRQVOkBuAOrYDSKjAQiLc1C24BJcxJpgO2PV+cc9J5k389P+VZsw5NwD47L6sEwA+NcEDIEHwAEgQPAASBA+ABMEDIEHwAEgQPAASBA+ABMEDIEHwAEgQPAASBA+ABMEDIEHwAEgQPAASBA+ABMEDIEHwAEgQPAASBA+ABMEDIEHwAEgQPAASBA+ABMEDIEHwAEgQPAASBA+ABMEDIEHwAEgQPAASxpxzjR9z8/C8JvZqjNPsmjMY22Y7l2UFFzeOh/s1nscpg3d1/XVd2KW/f34fv/9cF/bk9vXp/W979+Nt3fnvfr18e1/B8eADuZjbx6dzB8+TJgAJggdAguABkCB4ACQIHgAJggdAguABkCB4ACQIHgAJggdAguABkCB4ACQIHgAJggdAguABkCB4ACQIHgAJggdAguABkCB4ACQIHgAJggdAguABkCB4ACQIHgAJggdAguABkCB4ACQIHgAJggdAguABkCB4ACQIHgAJY865xo+5eXheEzs2xhoA9uZ4uF/TeZwseACwZ540AUgQPAASBA+ABMEDIEHwAEgQPAASBA+ABMEDIEHwAEgQPAASBA+ABMEDIEHwAEgQPAASBA+ABMEDIEHwAEgQPAASBA+ABMEDIEHwAEgQPAASBA+ABMEDIEHwAEgQPAASBA+ABMEDIEHwAEgQPAASBA+ABMEDIGDb/gHA9im5IFh8nwAAAABJRU5ErkJggg==)"
      ],
      "metadata": {
        "id": "itJ6GZ48D7Ln"
      }
    },
    {
      "cell_type": "code",
      "source": [
        "df.images.shape"
      ],
      "metadata": {
        "colab": {
          "base_uri": "https://localhost:8080/"
        },
        "id": "6szLPBKTAHRD",
        "outputId": "14c5b163-2b4f-409b-e48b-654698e2f898"
      },
      "execution_count": 7,
      "outputs": [
        {
          "output_type": "execute_result",
          "data": {
            "text/plain": [
              "(1797, 8, 8)"
            ]
          },
          "metadata": {},
          "execution_count": 7
        }
      ]
    },
    {
      "cell_type": "code",
      "source": [
        "df.images[0]"
      ],
      "metadata": {
        "colab": {
          "base_uri": "https://localhost:8080/"
        },
        "id": "eQspjOG7ESGo",
        "outputId": "06bf0cdd-1934-4bca-e5fc-69a91e9a4210"
      },
      "execution_count": 8,
      "outputs": [
        {
          "output_type": "execute_result",
          "data": {
            "text/plain": [
              "array([[ 0.,  0.,  5., 13.,  9.,  1.,  0.,  0.],\n",
              "       [ 0.,  0., 13., 15., 10., 15.,  5.,  0.],\n",
              "       [ 0.,  3., 15.,  2.,  0., 11.,  8.,  0.],\n",
              "       [ 0.,  4., 12.,  0.,  0.,  8.,  8.,  0.],\n",
              "       [ 0.,  5.,  8.,  0.,  0.,  9.,  8.,  0.],\n",
              "       [ 0.,  4., 11.,  0.,  1., 12.,  7.,  0.],\n",
              "       [ 0.,  2., 14.,  5., 10., 12.,  0.,  0.],\n",
              "       [ 0.,  0.,  6., 13., 10.,  0.,  0.,  0.]])"
            ]
          },
          "metadata": {},
          "execution_count": 8
        }
      ]
    },
    {
      "cell_type": "code",
      "source": [
        "df.images[0].shape"
      ],
      "metadata": {
        "colab": {
          "base_uri": "https://localhost:8080/"
        },
        "id": "3gHcevq_EXFT",
        "outputId": "345df74e-487f-4e13-bbc0-76f86d951423"
      },
      "execution_count": 9,
      "outputs": [
        {
          "output_type": "execute_result",
          "data": {
            "text/plain": [
              "(8, 8)"
            ]
          },
          "metadata": {},
          "execution_count": 9
        }
      ]
    },
    {
      "cell_type": "code",
      "source": [
        "len(df.images)"
      ],
      "metadata": {
        "colab": {
          "base_uri": "https://localhost:8080/"
        },
        "id": "rIv6Z7YVEeGO",
        "outputId": "ca854b96-74c1-47b4-b596-134bec685796"
      },
      "execution_count": 10,
      "outputs": [
        {
          "output_type": "execute_result",
          "data": {
            "text/plain": [
              "1797"
            ]
          },
          "metadata": {},
          "execution_count": 10
        }
      ]
    },
    {
      "cell_type": "code",
      "source": [
        "n_samples=len(df.images)\n",
        "data=df.images.reshape((n_samples,-1))"
      ],
      "metadata": {
        "id": "L57s1ofZEfr1"
      },
      "execution_count": 11,
      "outputs": []
    },
    {
      "cell_type": "code",
      "source": [
        "data[0]"
      ],
      "metadata": {
        "colab": {
          "base_uri": "https://localhost:8080/"
        },
        "id": "pUSPUTd3Ep-1",
        "outputId": "1dacd532-3175-4935-b20d-ff5abd9ebe04"
      },
      "execution_count": 12,
      "outputs": [
        {
          "output_type": "execute_result",
          "data": {
            "text/plain": [
              "array([ 0.,  0.,  5., 13.,  9.,  1.,  0.,  0.,  0.,  0., 13., 15., 10.,\n",
              "       15.,  5.,  0.,  0.,  3., 15.,  2.,  0., 11.,  8.,  0.,  0.,  4.,\n",
              "       12.,  0.,  0.,  8.,  8.,  0.,  0.,  5.,  8.,  0.,  0.,  9.,  8.,\n",
              "        0.,  0.,  4., 11.,  0.,  1., 12.,  7.,  0.,  0.,  2., 14.,  5.,\n",
              "       10., 12.,  0.,  0.,  0.,  0.,  6., 13., 10.,  0.,  0.,  0.])"
            ]
          },
          "metadata": {},
          "execution_count": 12
        }
      ]
    },
    {
      "cell_type": "code",
      "source": [
        "data[0].shape"
      ],
      "metadata": {
        "colab": {
          "base_uri": "https://localhost:8080/"
        },
        "id": "5-OJsS9qErQK",
        "outputId": "bb7ca1f2-efb9-403a-b595-cf0e501a8df3"
      },
      "execution_count": 13,
      "outputs": [
        {
          "output_type": "execute_result",
          "data": {
            "text/plain": [
              "(64,)"
            ]
          },
          "metadata": {},
          "execution_count": 13
        }
      ]
    },
    {
      "cell_type": "code",
      "source": [
        "data.shape"
      ],
      "metadata": {
        "colab": {
          "base_uri": "https://localhost:8080/"
        },
        "id": "5caXmgeZEvDY",
        "outputId": "07b9e27b-cf87-49a2-f29b-a02bb5b56779"
      },
      "execution_count": 14,
      "outputs": [
        {
          "output_type": "execute_result",
          "data": {
            "text/plain": [
              "(1797, 64)"
            ]
          },
          "metadata": {},
          "execution_count": 14
        }
      ]
    },
    {
      "cell_type": "markdown",
      "source": [
        "## **Scaling image data**"
      ],
      "metadata": {
        "id": "GwtzyVsyE0vd"
      }
    },
    {
      "cell_type": "code",
      "source": [
        "data.min()"
      ],
      "metadata": {
        "colab": {
          "base_uri": "https://localhost:8080/"
        },
        "id": "ar5EO745EyCf",
        "outputId": "3f4d100f-fc50-495e-d26a-dd7f448e1428"
      },
      "execution_count": 15,
      "outputs": [
        {
          "output_type": "execute_result",
          "data": {
            "text/plain": [
              "0.0"
            ]
          },
          "metadata": {},
          "execution_count": 15
        }
      ]
    },
    {
      "cell_type": "code",
      "source": [
        "data.max()"
      ],
      "metadata": {
        "colab": {
          "base_uri": "https://localhost:8080/"
        },
        "id": "Ny-TWLIiE8U5",
        "outputId": "f1bdcf69-6979-4796-9b21-91450f1a4628"
      },
      "execution_count": 16,
      "outputs": [
        {
          "output_type": "execute_result",
          "data": {
            "text/plain": [
              "16.0"
            ]
          },
          "metadata": {},
          "execution_count": 16
        }
      ]
    },
    {
      "cell_type": "code",
      "source": [
        "data=data/16"
      ],
      "metadata": {
        "id": "HpPQqTHFE9m_"
      },
      "execution_count": 17,
      "outputs": []
    },
    {
      "cell_type": "code",
      "source": [
        "data.min()"
      ],
      "metadata": {
        "colab": {
          "base_uri": "https://localhost:8080/"
        },
        "id": "C4k1lTUeFEFs",
        "outputId": "ffb875f2-0768-4cd6-fdab-dceb4ef1eeff"
      },
      "execution_count": 18,
      "outputs": [
        {
          "output_type": "execute_result",
          "data": {
            "text/plain": [
              "0.0"
            ]
          },
          "metadata": {},
          "execution_count": 18
        }
      ]
    },
    {
      "cell_type": "code",
      "source": [
        "data.max()"
      ],
      "metadata": {
        "colab": {
          "base_uri": "https://localhost:8080/"
        },
        "id": "7yAJ4jRPFFcR",
        "outputId": "cb1ee017-6315-4220-c56d-2a07492e7b16"
      },
      "execution_count": 19,
      "outputs": [
        {
          "output_type": "execute_result",
          "data": {
            "text/plain": [
              "1.0"
            ]
          },
          "metadata": {},
          "execution_count": 19
        }
      ]
    },
    {
      "cell_type": "code",
      "source": [
        "data[0]"
      ],
      "metadata": {
        "colab": {
          "base_uri": "https://localhost:8080/"
        },
        "id": "i4pchYaOFG6m",
        "outputId": "eedbacff-9fc7-420e-afd6-ead3e1a9c0c8"
      },
      "execution_count": 20,
      "outputs": [
        {
          "output_type": "execute_result",
          "data": {
            "text/plain": [
              "array([0.    , 0.    , 0.3125, 0.8125, 0.5625, 0.0625, 0.    , 0.    ,\n",
              "       0.    , 0.    , 0.8125, 0.9375, 0.625 , 0.9375, 0.3125, 0.    ,\n",
              "       0.    , 0.1875, 0.9375, 0.125 , 0.    , 0.6875, 0.5   , 0.    ,\n",
              "       0.    , 0.25  , 0.75  , 0.    , 0.    , 0.5   , 0.5   , 0.    ,\n",
              "       0.    , 0.3125, 0.5   , 0.    , 0.    , 0.5625, 0.5   , 0.    ,\n",
              "       0.    , 0.25  , 0.6875, 0.    , 0.0625, 0.75  , 0.4375, 0.    ,\n",
              "       0.    , 0.125 , 0.875 , 0.3125, 0.625 , 0.75  , 0.    , 0.    ,\n",
              "       0.    , 0.    , 0.375 , 0.8125, 0.625 , 0.    , 0.    , 0.    ])"
            ]
          },
          "metadata": {},
          "execution_count": 20
        }
      ]
    },
    {
      "cell_type": "markdown",
      "source": [
        "## **Train Test Split Data**"
      ],
      "metadata": {
        "id": "ZtaGTv7iFXB_"
      }
    },
    {
      "cell_type": "code",
      "source": [
        "from sklearn.model_selection import train_test_split"
      ],
      "metadata": {
        "id": "rYJGdpBKFL4J"
      },
      "execution_count": 21,
      "outputs": []
    },
    {
      "cell_type": "code",
      "source": [
        "x_train,x_test,y_train,y_test=train_test_split(data,df.target,test_size=0.3)"
      ],
      "metadata": {
        "id": "G7IqOpRCFil-"
      },
      "execution_count": 22,
      "outputs": []
    },
    {
      "cell_type": "code",
      "source": [
        "x_train.shape,x_test.shape,y_train.shape,y_test.shape"
      ],
      "metadata": {
        "colab": {
          "base_uri": "https://localhost:8080/"
        },
        "id": "e0TfRvjZFrvI",
        "outputId": "2e5c38c9-17e3-4901-fb1c-07e88c43e620"
      },
      "execution_count": 23,
      "outputs": [
        {
          "output_type": "execute_result",
          "data": {
            "text/plain": [
              "((1257, 64), (540, 64), (1257,), (540,))"
            ]
          },
          "metadata": {},
          "execution_count": 23
        }
      ]
    },
    {
      "cell_type": "markdown",
      "source": [
        "## **Random Forest Model**"
      ],
      "metadata": {
        "id": "bw0lAh42F2pC"
      }
    },
    {
      "cell_type": "code",
      "source": [
        "from sklearn.ensemble import RandomForestClassifier"
      ],
      "metadata": {
        "id": "NXZKXVw8FycH"
      },
      "execution_count": 24,
      "outputs": []
    },
    {
      "cell_type": "code",
      "source": [
        "rf=RandomForestClassifier()"
      ],
      "metadata": {
        "id": "Y-75lYGbGBWV"
      },
      "execution_count": 25,
      "outputs": []
    },
    {
      "cell_type": "code",
      "source": [
        "rf.fit(x_train,y_train)"
      ],
      "metadata": {
        "colab": {
          "base_uri": "https://localhost:8080/",
          "height": 75
        },
        "id": "imStl9QyGSjG",
        "outputId": "29d26621-dc19-46ce-c0bd-d813d5e13881"
      },
      "execution_count": 26,
      "outputs": [
        {
          "output_type": "execute_result",
          "data": {
            "text/plain": [
              "RandomForestClassifier()"
            ],
            "text/html": [
              "<style>#sk-container-id-1 {color: black;background-color: white;}#sk-container-id-1 pre{padding: 0;}#sk-container-id-1 div.sk-toggleable {background-color: white;}#sk-container-id-1 label.sk-toggleable__label {cursor: pointer;display: block;width: 100%;margin-bottom: 0;padding: 0.3em;box-sizing: border-box;text-align: center;}#sk-container-id-1 label.sk-toggleable__label-arrow:before {content: \"▸\";float: left;margin-right: 0.25em;color: #696969;}#sk-container-id-1 label.sk-toggleable__label-arrow:hover:before {color: black;}#sk-container-id-1 div.sk-estimator:hover label.sk-toggleable__label-arrow:before {color: black;}#sk-container-id-1 div.sk-toggleable__content {max-height: 0;max-width: 0;overflow: hidden;text-align: left;background-color: #f0f8ff;}#sk-container-id-1 div.sk-toggleable__content pre {margin: 0.2em;color: black;border-radius: 0.25em;background-color: #f0f8ff;}#sk-container-id-1 input.sk-toggleable__control:checked~div.sk-toggleable__content {max-height: 200px;max-width: 100%;overflow: auto;}#sk-container-id-1 input.sk-toggleable__control:checked~label.sk-toggleable__label-arrow:before {content: \"▾\";}#sk-container-id-1 div.sk-estimator input.sk-toggleable__control:checked~label.sk-toggleable__label {background-color: #d4ebff;}#sk-container-id-1 div.sk-label input.sk-toggleable__control:checked~label.sk-toggleable__label {background-color: #d4ebff;}#sk-container-id-1 input.sk-hidden--visually {border: 0;clip: rect(1px 1px 1px 1px);clip: rect(1px, 1px, 1px, 1px);height: 1px;margin: -1px;overflow: hidden;padding: 0;position: absolute;width: 1px;}#sk-container-id-1 div.sk-estimator {font-family: monospace;background-color: #f0f8ff;border: 1px dotted black;border-radius: 0.25em;box-sizing: border-box;margin-bottom: 0.5em;}#sk-container-id-1 div.sk-estimator:hover {background-color: #d4ebff;}#sk-container-id-1 div.sk-parallel-item::after {content: \"\";width: 100%;border-bottom: 1px solid gray;flex-grow: 1;}#sk-container-id-1 div.sk-label:hover label.sk-toggleable__label {background-color: #d4ebff;}#sk-container-id-1 div.sk-serial::before {content: \"\";position: absolute;border-left: 1px solid gray;box-sizing: border-box;top: 0;bottom: 0;left: 50%;z-index: 0;}#sk-container-id-1 div.sk-serial {display: flex;flex-direction: column;align-items: center;background-color: white;padding-right: 0.2em;padding-left: 0.2em;position: relative;}#sk-container-id-1 div.sk-item {position: relative;z-index: 1;}#sk-container-id-1 div.sk-parallel {display: flex;align-items: stretch;justify-content: center;background-color: white;position: relative;}#sk-container-id-1 div.sk-item::before, #sk-container-id-1 div.sk-parallel-item::before {content: \"\";position: absolute;border-left: 1px solid gray;box-sizing: border-box;top: 0;bottom: 0;left: 50%;z-index: -1;}#sk-container-id-1 div.sk-parallel-item {display: flex;flex-direction: column;z-index: 1;position: relative;background-color: white;}#sk-container-id-1 div.sk-parallel-item:first-child::after {align-self: flex-end;width: 50%;}#sk-container-id-1 div.sk-parallel-item:last-child::after {align-self: flex-start;width: 50%;}#sk-container-id-1 div.sk-parallel-item:only-child::after {width: 0;}#sk-container-id-1 div.sk-dashed-wrapped {border: 1px dashed gray;margin: 0 0.4em 0.5em 0.4em;box-sizing: border-box;padding-bottom: 0.4em;background-color: white;}#sk-container-id-1 div.sk-label label {font-family: monospace;font-weight: bold;display: inline-block;line-height: 1.2em;}#sk-container-id-1 div.sk-label-container {text-align: center;}#sk-container-id-1 div.sk-container {/* jupyter's `normalize.less` sets `[hidden] { display: none; }` but bootstrap.min.css set `[hidden] { display: none !important; }` so we also need the `!important` here to be able to override the default hidden behavior on the sphinx rendered scikit-learn.org. See: https://github.com/scikit-learn/scikit-learn/issues/21755 */display: inline-block !important;position: relative;}#sk-container-id-1 div.sk-text-repr-fallback {display: none;}</style><div id=\"sk-container-id-1\" class=\"sk-top-container\"><div class=\"sk-text-repr-fallback\"><pre>RandomForestClassifier()</pre><b>In a Jupyter environment, please rerun this cell to show the HTML representation or trust the notebook. <br />On GitHub, the HTML representation is unable to render, please try loading this page with nbviewer.org.</b></div><div class=\"sk-container\" hidden><div class=\"sk-item\"><div class=\"sk-estimator sk-toggleable\"><input class=\"sk-toggleable__control sk-hidden--visually\" id=\"sk-estimator-id-1\" type=\"checkbox\" checked><label for=\"sk-estimator-id-1\" class=\"sk-toggleable__label sk-toggleable__label-arrow\">RandomForestClassifier</label><div class=\"sk-toggleable__content\"><pre>RandomForestClassifier()</pre></div></div></div></div></div>"
            ]
          },
          "metadata": {},
          "execution_count": 26
        }
      ]
    },
    {
      "cell_type": "markdown",
      "source": [
        "## **Predict Test Data**"
      ],
      "metadata": {
        "id": "GmbS_OLzGXn4"
      }
    },
    {
      "cell_type": "code",
      "source": [
        "y_pred=rf.predict(x_test)"
      ],
      "metadata": {
        "id": "MqRg5H57GUtx"
      },
      "execution_count": 27,
      "outputs": []
    },
    {
      "cell_type": "code",
      "source": [
        "y_pred"
      ],
      "metadata": {
        "colab": {
          "base_uri": "https://localhost:8080/"
        },
        "id": "KLnz6_jnGhZd",
        "outputId": "535bcebe-7329-44a2-adbd-84250d6a1f31"
      },
      "execution_count": 28,
      "outputs": [
        {
          "output_type": "execute_result",
          "data": {
            "text/plain": [
              "array([9, 0, 8, 6, 2, 4, 1, 9, 5, 3, 9, 8, 3, 0, 9, 9, 5, 0, 2, 3, 0, 7,\n",
              "       0, 4, 9, 6, 8, 6, 0, 3, 4, 5, 3, 1, 7, 2, 5, 2, 5, 5, 2, 3, 4, 1,\n",
              "       0, 6, 2, 8, 5, 6, 7, 0, 9, 9, 6, 0, 7, 1, 6, 1, 3, 7, 1, 3, 7, 1,\n",
              "       0, 1, 0, 3, 9, 1, 7, 5, 1, 3, 1, 6, 9, 0, 3, 7, 9, 7, 2, 0, 7, 9,\n",
              "       5, 8, 0, 8, 3, 8, 3, 2, 3, 7, 9, 0, 3, 0, 4, 5, 2, 0, 8, 7, 0, 4,\n",
              "       7, 6, 9, 4, 1, 4, 4, 1, 3, 7, 2, 7, 7, 0, 7, 7, 5, 6, 7, 0, 9, 5,\n",
              "       4, 7, 3, 9, 0, 7, 5, 5, 5, 1, 9, 8, 5, 6, 0, 7, 4, 6, 8, 0, 1, 2,\n",
              "       1, 6, 7, 5, 1, 6, 9, 3, 4, 2, 5, 0, 9, 1, 5, 1, 8, 9, 2, 8, 5, 2,\n",
              "       6, 4, 9, 4, 9, 7, 3, 5, 5, 6, 3, 0, 5, 1, 4, 2, 8, 9, 7, 4, 2, 5,\n",
              "       6, 7, 4, 9, 8, 7, 2, 0, 2, 8, 9, 0, 5, 9, 4, 7, 6, 7, 8, 4, 9, 2,\n",
              "       9, 2, 6, 7, 9, 6, 4, 0, 8, 2, 1, 1, 2, 9, 4, 0, 4, 7, 6, 8, 3, 9,\n",
              "       4, 4, 9, 4, 1, 8, 7, 3, 0, 3, 4, 6, 1, 2, 5, 5, 1, 0, 5, 5, 6, 1,\n",
              "       8, 0, 7, 8, 9, 3, 6, 4, 6, 9, 1, 0, 2, 5, 7, 0, 9, 9, 8, 2, 9, 8,\n",
              "       0, 5, 1, 0, 0, 0, 1, 6, 3, 1, 2, 1, 4, 1, 4, 9, 6, 1, 1, 8, 1, 2,\n",
              "       7, 4, 0, 9, 7, 8, 3, 1, 8, 9, 1, 3, 9, 2, 1, 0, 0, 9, 7, 5, 8, 6,\n",
              "       6, 8, 6, 4, 8, 2, 9, 5, 2, 0, 8, 6, 1, 2, 2, 1, 3, 5, 5, 7, 5, 1,\n",
              "       2, 4, 8, 1, 5, 6, 4, 2, 0, 0, 8, 0, 1, 7, 1, 9, 1, 1, 5, 9, 5, 5,\n",
              "       6, 3, 8, 6, 4, 8, 8, 2, 7, 6, 5, 4, 1, 7, 4, 3, 4, 2, 8, 1, 5, 3,\n",
              "       5, 2, 4, 4, 6, 7, 4, 2, 6, 7, 7, 4, 1, 8, 2, 2, 4, 5, 9, 5, 8, 6,\n",
              "       5, 5, 0, 5, 2, 1, 9, 3, 7, 2, 1, 2, 9, 8, 7, 1, 3, 1, 4, 4, 0, 4,\n",
              "       5, 6, 0, 2, 5, 7, 5, 3, 1, 6, 0, 5, 9, 0, 1, 8, 9, 7, 9, 7, 4, 7,\n",
              "       4, 1, 7, 3, 1, 1, 1, 8, 1, 2, 1, 3, 7, 0, 6, 7, 5, 2, 7, 8, 8, 3,\n",
              "       9, 6, 9, 2, 4, 4, 1, 7, 4, 4, 8, 0, 2, 1, 8, 1, 1, 7, 8, 6, 5, 3,\n",
              "       7, 4, 4, 7, 8, 6, 0, 8, 9, 2, 3, 5, 1, 3, 6, 3, 0, 8, 8, 1, 3, 0,\n",
              "       1, 2, 5, 6, 6, 8, 8, 5, 9, 6, 2, 3])"
            ]
          },
          "metadata": {},
          "execution_count": 28
        }
      ]
    },
    {
      "cell_type": "markdown",
      "source": [
        "## **Model Accuracy**"
      ],
      "metadata": {
        "id": "DdmQBCLdG-vL"
      }
    },
    {
      "cell_type": "code",
      "source": [
        "from sklearn.metrics import confusion_matrix,classification_report"
      ],
      "metadata": {
        "id": "S1DCLvU5GiSe"
      },
      "execution_count": 29,
      "outputs": []
    },
    {
      "cell_type": "code",
      "source": [
        "confusion_matrix(y_test,y_pred)"
      ],
      "metadata": {
        "colab": {
          "base_uri": "https://localhost:8080/"
        },
        "id": "EoaEXCIAHKoQ",
        "outputId": "7f7e8fbc-d7a6-4792-9350-6541b2f2973f"
      },
      "execution_count": 30,
      "outputs": [
        {
          "output_type": "execute_result",
          "data": {
            "text/plain": [
              "array([[54,  0,  0,  0,  0,  0,  0,  0,  0,  0],\n",
              "       [ 0, 67,  0,  0,  0,  0,  0,  0,  0,  0],\n",
              "       [ 0,  0, 51,  0,  0,  0,  0,  0,  0,  0],\n",
              "       [ 0,  0,  0, 43,  0,  0,  0,  0,  0,  1],\n",
              "       [ 0,  0,  0,  0, 53,  0,  0,  0,  0,  2],\n",
              "       [ 0,  0,  0,  0,  0, 55,  0,  0,  0,  2],\n",
              "       [ 1,  0,  0,  0,  0,  1, 48,  0,  1,  0],\n",
              "       [ 0,  0,  0,  0,  0,  0,  0, 58,  0,  0],\n",
              "       [ 0,  1,  0,  0,  0,  0,  0,  0, 51,  1],\n",
              "       [ 0,  0,  0,  0,  0,  1,  0,  0,  0, 49]])"
            ]
          },
          "metadata": {},
          "execution_count": 30
        }
      ]
    },
    {
      "cell_type": "code",
      "source": [
        "print(classification_report(y_test,y_pred))"
      ],
      "metadata": {
        "colab": {
          "base_uri": "https://localhost:8080/"
        },
        "id": "ggQ0AZ0AHOxz",
        "outputId": "7d17d86f-f723-4aa5-c3c9-947a4b4001b8"
      },
      "execution_count": 31,
      "outputs": [
        {
          "output_type": "stream",
          "name": "stdout",
          "text": [
            "              precision    recall  f1-score   support\n",
            "\n",
            "           0       0.98      1.00      0.99        54\n",
            "           1       0.99      1.00      0.99        67\n",
            "           2       1.00      1.00      1.00        51\n",
            "           3       1.00      0.98      0.99        44\n",
            "           4       1.00      0.96      0.98        55\n",
            "           5       0.96      0.96      0.96        57\n",
            "           6       1.00      0.94      0.97        51\n",
            "           7       1.00      1.00      1.00        58\n",
            "           8       0.98      0.96      0.97        53\n",
            "           9       0.89      0.98      0.93        50\n",
            "\n",
            "    accuracy                           0.98       540\n",
            "   macro avg       0.98      0.98      0.98       540\n",
            "weighted avg       0.98      0.98      0.98       540\n",
            "\n"
          ]
        }
      ]
    },
    {
      "cell_type": "code",
      "source": [],
      "metadata": {
        "id": "oqGCFUp4HWKt"
      },
      "execution_count": 31,
      "outputs": []
    }
  ]
}